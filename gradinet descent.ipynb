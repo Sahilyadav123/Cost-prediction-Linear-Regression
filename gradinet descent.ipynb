{
 "cells": [
  {
   "cell_type": "code",
   "execution_count": 6,
   "id": "a7a71175-1ed9-417d-8705-58efcaea5114",
   "metadata": {},
   "outputs": [],
   "source": [
    "import math,copy\n",
    "import numpy as np\n",
    "import matplotlib as plt"
   ]
  },
  {
   "cell_type": "code",
   "execution_count": 34,
   "id": "b3023ecd-b1aa-4a91-bd64-7d59570c80b5",
   "metadata": {},
   "outputs": [],
   "source": [
    "x_train=np.array([1,2,3,4,5]) # r\n",
    "y_train=np.array([300,500,550,700,720])\n",
    "# print(x_train,y_train)"
   ]
  },
  {
   "cell_type": "code",
   "execution_count": 35,
   "id": "ed3dda49-6173-4622-bb9c-29d9e1aabb5a",
   "metadata": {},
   "outputs": [],
   "source": [
    "def compute_cost(x,y,w,b):\n",
    "    m=x.shape[0]\n",
    "    cost=0\n",
    "    for i in range(m):\n",
    "        f_wb=w*x[i]+b;\n",
    "        cost=cost+(f_wb-y[i])**2\n",
    "    total_cost=1+(2*m)*cost\n",
    "    return total_cost"
   ]
  },
  {
   "cell_type": "code",
   "execution_count": 36,
   "id": "fda6991a-414c-4ad2-974f-ef9e7e435d1e",
   "metadata": {},
   "outputs": [],
   "source": [
    "def compute_gradient(x,y,w,b):\n",
    "    m=x.shape[0]\n",
    "    dj_dw=0\n",
    "    dj_db=0\n",
    "    for i in range(m):\n",
    "        f_wb=w*x[i]+b\n",
    "        dj_dw_i=(f_wb-y[i])*x[i]\n",
    "        dj_db_i=(f_wb-y[i])\n",
    "        dj_dw+=dj_dw_i\n",
    "        dj_db+=dj_db_i\n",
    "    dj_dw=dj_dw/m\n",
    "    dj_db=dj_db/m\n",
    "    return dj_dw,dj_db\n",
    "        \n",
    "    "
   ]
  },
  {
   "cell_type": "code",
   "execution_count": 37,
   "id": "3b5798c4-30b1-4aca-8dcf-00612b93228d",
   "metadata": {},
   "outputs": [],
   "source": [
    "def gradient_descent(x, y, w_in, b_in, alpha, num_iters, cost_function, gradient_function):\n",
    "    b=b_in\n",
    "    w=w_in\n",
    "    for i in range(num_iters):\n",
    "        dj_dw,dj_db=compute_gradient(x,y,w,b)\n",
    "        w=w-alpha*dj_dw\n",
    "        b=b-alpha*dj_db\n",
    "        if i% math.ceil(num_iters/10) == 0:\n",
    "            print(f\"Iteration {i} \",\n",
    "                  f\"dj_dw: {dj_dw}, dj_db: {dj_db}  \",\n",
    "                  f\"w: {w}, b:{b}\")\n",
    "    return w,b;"
   ]
  },
  {
   "cell_type": "code",
   "execution_count": 38,
   "id": "30966e65-59f2-41c9-a886-da8a945732c6",
   "metadata": {},
   "outputs": [
    {
     "name": "stdout",
     "output_type": "stream",
     "text": [
      "Iteration 0  dj_dw: -1870.0, dj_db: -554.0   w: 18.7, b:5.54\n",
      "Iteration 1000  dj_dw: 1.707452255620717, dj_db: -6.1644444144579555   w: 114.08331822694109, b:205.59602178119476\n",
      "Iteration 2000  dj_dw: 0.31445661028037647, dj_db: -1.1352881396540966   w: 105.85701594851854, b:235.29558319787841\n",
      "Iteration 3000  dj_dw: 0.057912576719832035, dj_db: -0.2090827775194498   w: 104.34200132887189, b:240.76526668633846\n",
      "Iteration 4000  dj_dw: 0.010665594020463232, dj_db: -0.038506178588806964   w: 104.06298540895322, b:241.7726026885168\n",
      "Iteration 5000  dj_dw: 0.0019642520200363832, dj_db: -0.007091573046329814   w: 104.01159984305932, b:241.9581208859456\n",
      "Iteration 6000  dj_dw: 0.0003617506901377965, dj_db: -0.0013060347745636135   w: 104.00213631000001, b:241.99228724305246\n",
      "Iteration 7000  dj_dw: 6.662259239647028e-05, dj_db: -0.00024052869811157506   w: 104.00039343811743, b:241.9985795635588\n",
      "Iteration 8000  dj_dw: 1.226969292247304e-05, dj_db: -4.429748404390921e-05   w: 104.00007245837558, b:241.99973840227324\n",
      "Iteration 9000  dj_dw: 2.2596742155656104e-06, dj_db: -8.158141247349704e-06   w: 104.00001334445224, b:241.99995182229324\n"
     ]
    }
   ],
   "source": [
    "b_in=0\n",
    "w_in=0\n",
    "iterations=10000\n",
    "alpha=1.0e-2\n",
    "w_final,b_final=gradient_descent(x_train,y_train,w_in,b_in,alpha,iterations,compute_cost,compute_gradient)"
   ]
  },
  {
   "cell_type": "code",
   "execution_count": 39,
   "id": "899d06ff-ae33-4f47-ba01-b14a2bd44658",
   "metadata": {},
   "outputs": [
    {
     "name": "stdin",
     "output_type": "stream",
     "text": [
      "Enter the area of the house in square feer 3\n"
     ]
    },
    {
     "name": "stdout",
     "output_type": "stream",
     "text": [
      "553.9999984975384\n"
     ]
    }
   ],
   "source": [
    "a=float(input(\"Enter the area of the house in square feet\")) # take 1000sq.ft as 1 and in multiple of 1 \n",
    "print(w_final*a+b_final)"
   ]
  }
 ],
 "metadata": {
  "kernelspec": {
   "display_name": "Python 3 (ipykernel)",
   "language": "python",
   "name": "python3"
  },
  "language_info": {
   "codemirror_mode": {
    "name": "ipython",
    "version": 3
   },
   "file_extension": ".py",
   "mimetype": "text/x-python",
   "name": "python",
   "nbconvert_exporter": "python",
   "pygments_lexer": "ipython3",
   "version": "3.12.3"
  }
 },
 "nbformat": 4,
 "nbformat_minor": 5
}
